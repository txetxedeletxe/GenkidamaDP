{
 "cells": [
  {
   "cell_type": "code",
   "execution_count": 1,
   "id": "3f1c410e-cf11-4b4f-9a99-77621c1dcb38",
   "metadata": {},
   "outputs": [],
   "source": [
    "from genkidama.coms import ip_connect,connect"
   ]
  },
  {
   "cell_type": "code",
   "execution_count": 3,
   "id": "71af92d8-a179-41b5-be59-57f0f33ca41e",
   "metadata": {},
   "outputs": [],
   "source": [
    "con = connect((None,22222))"
   ]
  },
  {
   "cell_type": "code",
   "execution_count": 47,
   "id": "e5fa1fbf-4dfc-4325-a591-8d14f25439ac",
   "metadata": {},
   "outputs": [],
   "source": [
    "code = \"\"\"\n",
    "a = [1,2,4,5,6,7,9]\n",
    "b = sum(a)**4\n",
    "print(b)\"\"\"\n",
    "con.send((154,code))"
   ]
  },
  {
   "cell_type": "code",
   "execution_count": null,
   "id": "66cd670e-0f5c-44d8-a5fd-1b4045148e70",
   "metadata": {},
   "outputs": [],
   "source": []
  }
 ],
 "metadata": {
  "kernelspec": {
   "display_name": "Python 3",
   "language": "python",
   "name": "python3"
  },
  "language_info": {
   "codemirror_mode": {
    "name": "ipython",
    "version": 3
   },
   "file_extension": ".py",
   "mimetype": "text/x-python",
   "name": "python",
   "nbconvert_exporter": "python",
   "pygments_lexer": "ipython3",
   "version": "3.8.10"
  }
 },
 "nbformat": 4,
 "nbformat_minor": 5
}
